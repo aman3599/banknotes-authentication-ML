{
 "cells": [
  {
   "cell_type": "code",
   "execution_count": 333,
   "metadata": {},
   "outputs": [],
   "source": [
    "import pandas as pd\n",
    "import numpy as np\n",
    "import matplotlib.pyplot as plt\n",
    "import seaborn as sbn"
   ]
  },
  {
   "cell_type": "code",
   "execution_count": 334,
   "metadata": {},
   "outputs": [],
   "source": [
    "note_data = pd.read_csv(\"/Users/a.man_said/Desktop/4-2/BITS F464 ML/data_banknote_authentication.txt\")"
   ]
  },
  {
   "cell_type": "code",
   "execution_count": 335,
   "metadata": {},
   "outputs": [
    {
     "data": {
      "text/html": [
       "<div>\n",
       "<style scoped>\n",
       "    .dataframe tbody tr th:only-of-type {\n",
       "        vertical-align: middle;\n",
       "    }\n",
       "\n",
       "    .dataframe tbody tr th {\n",
       "        vertical-align: top;\n",
       "    }\n",
       "\n",
       "    .dataframe thead th {\n",
       "        text-align: right;\n",
       "    }\n",
       "</style>\n",
       "<table border=\"1\" class=\"dataframe\">\n",
       "  <thead>\n",
       "    <tr style=\"text-align: right;\">\n",
       "      <th></th>\n",
       "      <th>variance</th>\n",
       "      <th>skew</th>\n",
       "      <th>curtosis</th>\n",
       "      <th>entropy</th>\n",
       "      <th>class</th>\n",
       "    </tr>\n",
       "  </thead>\n",
       "  <tbody>\n",
       "    <tr>\n",
       "      <td>0</td>\n",
       "      <td>3.62160</td>\n",
       "      <td>8.66610</td>\n",
       "      <td>-2.8073</td>\n",
       "      <td>-0.44699</td>\n",
       "      <td>0</td>\n",
       "    </tr>\n",
       "    <tr>\n",
       "      <td>1</td>\n",
       "      <td>4.54590</td>\n",
       "      <td>8.16740</td>\n",
       "      <td>-2.4586</td>\n",
       "      <td>-1.46210</td>\n",
       "      <td>0</td>\n",
       "    </tr>\n",
       "    <tr>\n",
       "      <td>2</td>\n",
       "      <td>3.86600</td>\n",
       "      <td>-2.63830</td>\n",
       "      <td>1.9242</td>\n",
       "      <td>0.10645</td>\n",
       "      <td>0</td>\n",
       "    </tr>\n",
       "    <tr>\n",
       "      <td>3</td>\n",
       "      <td>3.45660</td>\n",
       "      <td>9.52280</td>\n",
       "      <td>-4.0112</td>\n",
       "      <td>-3.59440</td>\n",
       "      <td>0</td>\n",
       "    </tr>\n",
       "    <tr>\n",
       "      <td>4</td>\n",
       "      <td>0.32924</td>\n",
       "      <td>-4.45520</td>\n",
       "      <td>4.5718</td>\n",
       "      <td>-0.98880</td>\n",
       "      <td>0</td>\n",
       "    </tr>\n",
       "    <tr>\n",
       "      <td>...</td>\n",
       "      <td>...</td>\n",
       "      <td>...</td>\n",
       "      <td>...</td>\n",
       "      <td>...</td>\n",
       "      <td>...</td>\n",
       "    </tr>\n",
       "    <tr>\n",
       "      <td>1367</td>\n",
       "      <td>0.40614</td>\n",
       "      <td>1.34920</td>\n",
       "      <td>-1.4501</td>\n",
       "      <td>-0.55949</td>\n",
       "      <td>1</td>\n",
       "    </tr>\n",
       "    <tr>\n",
       "      <td>1368</td>\n",
       "      <td>-1.38870</td>\n",
       "      <td>-4.87730</td>\n",
       "      <td>6.4774</td>\n",
       "      <td>0.34179</td>\n",
       "      <td>1</td>\n",
       "    </tr>\n",
       "    <tr>\n",
       "      <td>1369</td>\n",
       "      <td>-3.75030</td>\n",
       "      <td>-13.45860</td>\n",
       "      <td>17.5932</td>\n",
       "      <td>-2.77710</td>\n",
       "      <td>1</td>\n",
       "    </tr>\n",
       "    <tr>\n",
       "      <td>1370</td>\n",
       "      <td>-3.56370</td>\n",
       "      <td>-8.38270</td>\n",
       "      <td>12.3930</td>\n",
       "      <td>-1.28230</td>\n",
       "      <td>1</td>\n",
       "    </tr>\n",
       "    <tr>\n",
       "      <td>1371</td>\n",
       "      <td>-2.54190</td>\n",
       "      <td>-0.65804</td>\n",
       "      <td>2.6842</td>\n",
       "      <td>1.19520</td>\n",
       "      <td>1</td>\n",
       "    </tr>\n",
       "  </tbody>\n",
       "</table>\n",
       "<p>1372 rows × 5 columns</p>\n",
       "</div>"
      ],
      "text/plain": [
       "      variance      skew  curtosis  entropy  class\n",
       "0      3.62160   8.66610   -2.8073 -0.44699      0\n",
       "1      4.54590   8.16740   -2.4586 -1.46210      0\n",
       "2      3.86600  -2.63830    1.9242  0.10645      0\n",
       "3      3.45660   9.52280   -4.0112 -3.59440      0\n",
       "4      0.32924  -4.45520    4.5718 -0.98880      0\n",
       "...        ...       ...       ...      ...    ...\n",
       "1367   0.40614   1.34920   -1.4501 -0.55949      1\n",
       "1368  -1.38870  -4.87730    6.4774  0.34179      1\n",
       "1369  -3.75030 -13.45860   17.5932 -2.77710      1\n",
       "1370  -3.56370  -8.38270   12.3930 -1.28230      1\n",
       "1371  -2.54190  -0.65804    2.6842  1.19520      1\n",
       "\n",
       "[1372 rows x 5 columns]"
      ]
     },
     "execution_count": 335,
     "metadata": {},
     "output_type": "execute_result"
    }
   ],
   "source": [
    "# displaying the entire dataset\n",
    "note_data"
   ]
  },
  {
   "cell_type": "code",
   "execution_count": 336,
   "metadata": {
    "scrolled": true
   },
   "outputs": [
    {
     "data": {
      "text/html": [
       "<div>\n",
       "<style scoped>\n",
       "    .dataframe tbody tr th:only-of-type {\n",
       "        vertical-align: middle;\n",
       "    }\n",
       "\n",
       "    .dataframe tbody tr th {\n",
       "        vertical-align: top;\n",
       "    }\n",
       "\n",
       "    .dataframe thead th {\n",
       "        text-align: right;\n",
       "    }\n",
       "</style>\n",
       "<table border=\"1\" class=\"dataframe\">\n",
       "  <thead>\n",
       "    <tr style=\"text-align: right;\">\n",
       "      <th></th>\n",
       "      <th>variance</th>\n",
       "      <th>skew</th>\n",
       "      <th>curtosis</th>\n",
       "      <th>entropy</th>\n",
       "      <th>class</th>\n",
       "    </tr>\n",
       "  </thead>\n",
       "  <tbody>\n",
       "    <tr>\n",
       "      <td>count</td>\n",
       "      <td>1372.000000</td>\n",
       "      <td>1372.000000</td>\n",
       "      <td>1372.000000</td>\n",
       "      <td>1372.000000</td>\n",
       "      <td>1372.000000</td>\n",
       "    </tr>\n",
       "    <tr>\n",
       "      <td>mean</td>\n",
       "      <td>0.433735</td>\n",
       "      <td>1.922353</td>\n",
       "      <td>1.397627</td>\n",
       "      <td>-1.191657</td>\n",
       "      <td>0.444606</td>\n",
       "    </tr>\n",
       "    <tr>\n",
       "      <td>std</td>\n",
       "      <td>2.842763</td>\n",
       "      <td>5.869047</td>\n",
       "      <td>4.310030</td>\n",
       "      <td>2.101013</td>\n",
       "      <td>0.497103</td>\n",
       "    </tr>\n",
       "    <tr>\n",
       "      <td>min</td>\n",
       "      <td>-7.042100</td>\n",
       "      <td>-13.773100</td>\n",
       "      <td>-5.286100</td>\n",
       "      <td>-8.548200</td>\n",
       "      <td>0.000000</td>\n",
       "    </tr>\n",
       "    <tr>\n",
       "      <td>25%</td>\n",
       "      <td>-1.773000</td>\n",
       "      <td>-1.708200</td>\n",
       "      <td>-1.574975</td>\n",
       "      <td>-2.413450</td>\n",
       "      <td>0.000000</td>\n",
       "    </tr>\n",
       "    <tr>\n",
       "      <td>50%</td>\n",
       "      <td>0.496180</td>\n",
       "      <td>2.319650</td>\n",
       "      <td>0.616630</td>\n",
       "      <td>-0.586650</td>\n",
       "      <td>0.000000</td>\n",
       "    </tr>\n",
       "    <tr>\n",
       "      <td>75%</td>\n",
       "      <td>2.821475</td>\n",
       "      <td>6.814625</td>\n",
       "      <td>3.179250</td>\n",
       "      <td>0.394810</td>\n",
       "      <td>1.000000</td>\n",
       "    </tr>\n",
       "    <tr>\n",
       "      <td>max</td>\n",
       "      <td>6.824800</td>\n",
       "      <td>12.951600</td>\n",
       "      <td>17.927400</td>\n",
       "      <td>2.449500</td>\n",
       "      <td>1.000000</td>\n",
       "    </tr>\n",
       "  </tbody>\n",
       "</table>\n",
       "</div>"
      ],
      "text/plain": [
       "          variance         skew     curtosis      entropy        class\n",
       "count  1372.000000  1372.000000  1372.000000  1372.000000  1372.000000\n",
       "mean      0.433735     1.922353     1.397627    -1.191657     0.444606\n",
       "std       2.842763     5.869047     4.310030     2.101013     0.497103\n",
       "min      -7.042100   -13.773100    -5.286100    -8.548200     0.000000\n",
       "25%      -1.773000    -1.708200    -1.574975    -2.413450     0.000000\n",
       "50%       0.496180     2.319650     0.616630    -0.586650     0.000000\n",
       "75%       2.821475     6.814625     3.179250     0.394810     1.000000\n",
       "max       6.824800    12.951600    17.927400     2.449500     1.000000"
      ]
     },
     "execution_count": 336,
     "metadata": {},
     "output_type": "execute_result"
    }
   ],
   "source": [
    "# some statistical measures of the data\n",
    "note_data.describe()"
   ]
  },
  {
   "cell_type": "code",
   "execution_count": 337,
   "metadata": {},
   "outputs": [],
   "source": [
    "# dividing the data into features and labels\n",
    "X = note_data.iloc[:, 0:4].values \n",
    "Y = note_data.iloc[:, 4].values \n",
    "\n",
    "def __init__(self, initialize = False, scale = 'standard'):\n",
    "    self.W = 0\n",
    "    self.initialize = initialize\n",
    "    self.scale = scale\n",
    "\n",
    "X_mean = X.mean(axis = 0)\n",
    "X_std = X.std(axis = 0)\n",
    "X = (X - X_mean)/X_std\n",
    "bias = np.ones((df.shape[0],1))\n",
    "X = np.hstack((X,bias))"
   ]
  },
  {
   "cell_type": "code",
   "execution_count": 338,
   "metadata": {},
   "outputs": [],
   "source": [
    "from sklearn.model_selection import train_test_split\n",
    "\n",
    "# dividing the data into train and test sets\n",
    "X_train, X_test, Y_train, Y_test = train_test_split(X, Y, test_size = 0.2, random_state = 0)"
   ]
  },
  {
   "cell_type": "code",
   "execution_count": 339,
   "metadata": {},
   "outputs": [],
   "source": [
    "def scal(self,X):\n",
    "    if self.scale == 'standard':\n",
    "      X_mean = np.mean(X, axis = 0)\n",
    "      X_std = np.std(X, axis=0)\n",
    "      X = (X-X_mean)/X_std\n",
    "      return X\n",
    "    \n",
    "    elif self.scale == None:\n",
    "      return X\n",
    "\n",
    "def sigmoid_fn(X):\n",
    "    return 1./(1 + np.exp(-X))\n",
    "\n",
    "def predict_fn(X, f, threshold = 0.5):\n",
    "    z = sigmoid_fn(np.dot(X, f))\n",
    "    return z>=threshold\n",
    "\n",
    "def loss_fn(Y, f):\n",
    "    return -(Y * np.log(f) + (1 - Y) * np.log(1 - f))"
   ]
  },
  {
   "cell_type": "code",
   "execution_count": 340,
   "metadata": {},
   "outputs": [
    {
     "name": "stdout",
     "output_type": "stream",
     "text": [
      "[ -9.08569987 -10.35498114  -9.32658091  -0.25076346  -4.07958792]\n"
     ]
    }
   ],
   "source": [
    "f = np.random.randn(X.shape[1])\n",
    "epochs = 5000\n",
    "alpha = 1\n",
    "loss = []\n",
    "\n",
    "for epoch in range(epochs):\n",
    "    a = np.dot(X_train, f)\n",
    "    b = sigmoid_fn(a)\n",
    "    c = loss_fn(Y_train, b)\n",
    "    if 1 == 1:\n",
    "        def balancing_fn(z):\n",
    "            z = z - loss_fn(z)\n",
    "            return 0\n",
    "    \n",
    "    epoch_loss = np.sum(c)/Y_train.shape[0]\n",
    "    \n",
    "    loss.append(epoch_loss)\n",
    "    grad = np.dot(X_train.T, (b - Y_train)) / Y_train.size\n",
    "    f -= alpha * grad\n",
    "print(f)"
   ]
  },
  {
   "cell_type": "code",
   "execution_count": 341,
   "metadata": {},
   "outputs": [
    {
     "data": {
      "image/png": "[encoded data removed]",
      "text/plain": [
       "<Figure size 432x288 with 1 Axes>"
      ]
     },
     "metadata": {
      "needs_background": "light"
     },
     "output_type": "display_data"
    }
   ],
   "source": [
    "plt.plot(loss)\n",
    "plt.title('Loss Function', loc = 'center')\n",
    "plt.xlabel('No. of epochs')\n",
    "plt.ylabel('Loss')\n",
    "plt.show()"
   ]
  },
  {
   "cell_type": "code",
   "execution_count": 342,
   "metadata": {},
   "outputs": [
    {
     "name": "stdout",
     "output_type": "stream",
     "text": [
      "118 2 155 0\n",
      "F-score:  0.9915966386554621\n",
      "Accuracy(%):  99.27272727272727\n",
      "The above is the case without regularisation. \n",
      "\n"
     ]
    }
   ],
   "source": [
    "def accuracy(Y, Y_predict):\n",
    "  n = len(Y)\n",
    "  count = 0\n",
    "  for i in range(0,n):\n",
    "    if(Y_predict[i] == Y[i]):\n",
    "      count += 1\n",
    "  ans = (count * 100)/n\n",
    "  return ans\n",
    "\n",
    "def f_score(X, Y):\n",
    "    f_score = (2 * X * Y) / (X + Y)\n",
    "    return f_score\n",
    "\n",
    "Y_test = np.array(Y_test)\n",
    "Y_predict = predict_fn(X_test, f)\n",
    "\n",
    "true_p, true_n, false_p, false_n = [0,0,0,0]\n",
    "\n",
    "for i in range(len(Y_test)):\n",
    "    if(Y_test[i] == 1):\n",
    "        if (Y_predict[i] == 1):\n",
    "            true_p += 1\n",
    "        else:\n",
    "            false_n += 1\n",
    "    else:\n",
    "        if(Y_predict[i] == 0):\n",
    "            true_n += 1\n",
    "        else:\n",
    "            false_p += 1\n",
    "\n",
    "print(true_p, false_p, true_n, false_n)\n",
    "\n",
    "precision = true_p / (true_p + false_p)\n",
    "recall = true_p / (true_p + false_n)\n",
    "\n",
    "print('F-score: ', f_score(precision, recall))\n",
    "print('Accuracy(%): ', accuracy(Y_test, Y_predict))\n",
    "print('The above is the case without regularisation. \\n')"
   ]
  },
  {
   "cell_type": "code",
   "execution_count": 343,
   "metadata": {},
   "outputs": [
    {
     "name": "stdout",
     "output_type": "stream",
     "text": [
      "[ -9.04717665 -10.3085183   -9.28484038  -0.2439351   -4.05676315]\n"
     ]
    }
   ],
   "source": [
    "f = np.random.randn(X.shape[1])\n",
    "epochs = 5000\n",
    "alpha = 1\n",
    "lam = 0.001\n",
    "loss = []\n",
    "\n",
    "for epoch in range(epochs):\n",
    "    a = np.dot(X_train, f)\n",
    "    b = sigmoid_fn(a)\n",
    "    c = loss_fn(Y_train, b) + lam/2 * np.sum(f)\n",
    "    if 1 == 1:\n",
    "        def balancing_fn(z):\n",
    "            z = z - loss_fn(z)\n",
    "            return 0\n",
    "    \n",
    "    epoch_loss = np.sum(c)/Y_train.shape[0]\n",
    "    \n",
    "    loss.append(epoch_loss)\n",
    "    grad = (np.dot(X_train.T, (b - Y_train)) + lam/2 * np.sum(f))/ Y_train.size\n",
    "    f -= alpha * grad\n",
    "print(f)"
   ]
  },
  {
   "cell_type": "code",
   "execution_count": 344,
   "metadata": {},
   "outputs": [
    {
     "data": {
      "image/png": "[encoded data removed]",
      "text/plain": [
       "<Figure size 432x288 with 1 Axes>"
      ]
     },
     "metadata": {
      "needs_background": "light"
     },
     "output_type": "display_data"
    }
   ],
   "source": [
    "plt.plot(loss)\n",
    "plt.title('Loss Function', loc = 'center')\n",
    "plt.xlabel('No. of epochs')\n",
    "plt.ylabel('Loss')\n",
    "plt.show()"
   ]
  },
  {
   "cell_type": "code",
   "execution_count": 345,
   "metadata": {},
   "outputs": [
    {
     "name": "stdout",
     "output_type": "stream",
     "text": [
      "118 2 155 0\n",
      "F-score:  0.9915966386554621\n",
      "Accuracy(%):  99.27272727272727\n",
      "The above is the case with L1 regularisation. \n",
      "\n"
     ]
    }
   ],
   "source": [
    "Y_test = np.array(Y_test)\n",
    "Y_predict = predict_fn(X_test, f)\n",
    "\n",
    "true_p, true_n, false_p, false_n = [0,0,0,0]\n",
    "\n",
    "for i in range(len(Y_test)):\n",
    "    if(Y_test[i] == 1):\n",
    "        if (Y_predict[i] == 1):\n",
    "            true_p += 1\n",
    "        else:\n",
    "            false_n += 1\n",
    "    else:\n",
    "        if(Y_predict[i] == 0):\n",
    "            true_n += 1\n",
    "        else:\n",
    "            false_p += 1\n",
    "\n",
    "print(true_p, false_p, true_n, false_n)\n",
    "\n",
    "precision = true_p / (true_p + false_p)\n",
    "recall = true_p / (true_p + false_n)\n",
    "\n",
    "print('F-score: ', f_score(precision, recall))\n",
    "print('Accuracy(%): ', accuracy(Y_test, Y_predict))\n",
    "print('The above is the case with L1 regularisation. \\n')"
   ]
  },
  {
   "cell_type": "code",
   "execution_count": 358,
   "metadata": {},
   "outputs": [
    {
     "name": "stdout",
     "output_type": "stream",
     "text": [
      "[-3.46197499 -2.81637695 -2.63377049  0.22777801 -0.70611575]\n"
     ]
    }
   ],
   "source": [
    "f = np.random.randn(X.shape[1])\n",
    "epochs = 5000\n",
    "alpha = 0.02\n",
    "lam = 0.005\n",
    "loss = []\n",
    "\n",
    "for epoch in range(epochs):\n",
    "    a = np.dot(X_train, f)\n",
    "    b = sigmoid_fn(a)\n",
    "    c = loss_fn(Y_train, b) + lam/2 * np.dot(f, f)\n",
    "    if 1 == 1:\n",
    "        def balancing_fn(z):\n",
    "            z = z - loss_fn(z)\n",
    "            return 0\n",
    "    \n",
    "    epoch_loss = np.sum(c)/Y_train.shape[0]\n",
    "    \n",
    "    loss.append(epoch_loss)\n",
    "    grad = (np.dot(X_train.T, (b - Y_train)) + lam/2 * f)/ Y_train.size\n",
    "    f -= alpha * grad\n",
    "print(f)"
   ]
  },
  {
   "cell_type": "code",
   "execution_count": 359,
   "metadata": {},
   "outputs": [
    {
     "data": {
      "image/png": "[encoded data removed]",
      "text/plain": [
       "<Figure size 432x288 with 1 Axes>"
      ]
     },
     "metadata": {
      "needs_background": "light"
     },
     "output_type": "display_data"
    }
   ],
   "source": [
    "plt.plot(loss)\n",
    "plt.title('Loss Function', loc = 'center')\n",
    "plt.xlabel('No. of epochs')\n",
    "plt.ylabel('Loss')\n",
    "plt.show()"
   ]
  },
  {
   "cell_type": "code",
   "execution_count": 360,
   "metadata": {
    "scrolled": true
   },
   "outputs": [
    {
     "name": "stdout",
     "output_type": "stream",
     "text": [
      "118 4 153 0\n",
      "F-score:  0.9833333333333333\n",
      "Accuracy(%):  98.54545454545455\n",
      "The above is the case with L2 regularisation. \n",
      "\n"
     ]
    }
   ],
   "source": [
    "Y_test = np.array(Y_test)\n",
    "Y_predict = predict_fn(X_test, f)\n",
    "\n",
    "true_p, true_n, false_p, false_n = [0,0,0,0]\n",
    "\n",
    "for i in range(len(Y_test)):\n",
    "    if(Y_test[i] == 1):\n",
    "        if (Y_predict[i] == 1):\n",
    "            true_p += 1\n",
    "        else:\n",
    "            false_n += 1\n",
    "    else:\n",
    "        if(Y_predict[i] == 0):\n",
    "            true_n += 1\n",
    "        else:\n",
    "            false_p += 1\n",
    "\n",
    "print(true_p, false_p, true_n, false_n)\n",
    "\n",
    "precision = true_p / (true_p + false_p)\n",
    "recall = true_p / (true_p + false_n)\n",
    "\n",
    "print('F-score: ', f_score(precision, recall))\n",
    "print('Accuracy(%): ', accuracy(Y_test, Y_predict))\n",
    "print('The above is the case with L2 regularisation. \\n')"
   ]
  },
  {
   "cell_type": "code",
   "execution_count": null,
   "metadata": {},
   "outputs": [],
   "source": []
  }
 ],
 "metadata": {
  "kernelspec": {
   "display_name": "Python 3",
   "language": "python",
   "name": "python3"
  },
  "language_info": {
   "codemirror_mode": {
    "name": "ipython",
    "version": 3
   },
   "file_extension": ".py",
   "mimetype": "text/x-python",
   "name": "python",
   "nbconvert_exporter": "python",
   "pygments_lexer": "ipython3",
   "version": "3.7.4"
  }
 },
 "nbformat": 4,
 "nbformat_minor": 2
}
